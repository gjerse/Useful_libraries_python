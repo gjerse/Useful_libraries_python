{
 "cells": [
  {
   "cell_type": "markdown",
   "metadata": {},
   "source": [
    "# Youtube DL"
   ]
  },
  {
   "cell_type": "markdown",
   "metadata": {},
   "source": [
    "is a library; command-line program to download videos from Youtube and also other videos sites"
   ]
  },
  {
   "cell_type": "raw",
   "metadata": {},
   "source": [
    "installation: pip install youtube_dl"
   ]
  },
  {
   "cell_type": "markdown",
   "metadata": {},
   "source": [
    "Example Code below:"
   ]
  },
  {
   "cell_type": "code",
   "execution_count": null,
   "metadata": {},
   "outputs": [],
   "source": [
    "# Youtube Dl Example\n",
    "import youtube_dl\n",
    "ydl_opt = {}\n",
    "with youtube_dl.YoutubeDL(ydl_opt) as ydl:\n",
    "    ydl.download(['https://www.youtube.com/watch?v=videocode'])"
   ]
  },
  {
   "cell_type": "markdown",
   "metadata": {},
   "source": [
    "# Pillow"
   ]
  },
  {
   "cell_type": "markdown",
   "metadata": {},
   "source": [
    "this module is an image processing module to edit your photos. It 's like a small Photoshop in Pythonic version. "
   ]
  },
  {
   "cell_type": "raw",
   "metadata": {},
   "source": [
    "Installation: pip install Pillow"
   ]
  },
  {
   "cell_type": "markdown",
   "metadata": {},
   "source": [
    "Example Code Below: "
   ]
  },
  {
   "cell_type": "code",
   "execution_count": null,
   "metadata": {},
   "outputs": [],
   "source": [
    "# Pillow example\n",
    "from PIL import Image\n",
    "  \n",
    "# Paste Image 1 to Image 2\n",
    "im1 = Image.open(\"img1.png\")\n",
    "  \n",
    "im2 = Image.open(\"img2.png\")\n",
    "  \n",
    "Image.Image.paste(im1, im2, (60, 100))\n",
    "  \n",
    "im1.show()"
   ]
  },
  {
   "cell_type": "markdown",
   "metadata": {},
   "source": [
    "# Pdf Plumber"
   ]
  },
  {
   "cell_type": "markdown",
   "metadata": {},
   "source": [
    "This moduel is used to deal with PDF files. \n",
    "It will help you to extract data and tables from pdf files and provide you info about the layout of pdf like fonts, lines,. images, ... It is a full pdf handling moduel tath you can use"
   ]
  },
  {
   "cell_type": "raw",
   "metadata": {},
   "source": [
    "Installation: pip install pdfplumber"
   ]
  },
  {
   "cell_type": "markdown",
   "metadata": {},
   "source": [
    "Example Code: "
   ]
  },
  {
   "cell_type": "code",
   "execution_count": null,
   "metadata": {},
   "outputs": [],
   "source": [
    "# Pdf Plumber Example\n",
    "import pdfplumber\n",
    "with pdfplumber.open(\"original.pdf\") as pdf:\n",
    "    for num, page in enumerate(pdf.pages, 1):\n",
    "        print('page', num)\n",
    "        text = page.extract_text()\n",
    "        print(text)"
   ]
  },
  {
   "cell_type": "markdown",
   "metadata": {},
   "source": [
    "# Pydub"
   ]
  },
  {
   "cell_type": "markdown",
   "metadata": {},
   "source": [
    "This module will help you modify audio files. It supports multiple audio files. \n",
    "You can perform several audio editing functions with Pydub"
   ]
  },
  {
   "cell_type": "raw",
   "metadata": {},
   "source": [
    "Installation: pip install pydub"
   ]
  },
  {
   "cell_type": "markdown",
   "metadata": {},
   "source": [
    "Example Code: "
   ]
  },
  {
   "cell_type": "code",
   "execution_count": null,
   "metadata": {},
   "outputs": [],
   "source": [
    "# PyDub Example\n",
    "from pydub import AudioSegment\n",
    "song = AudioSegment.from_wav(\"file.wav\")\n",
    "# Slice Audio\n",
    "ten = 10 * 1000\n",
    "first_ten_sec = song[:ten]\n",
    "last_five_sec = song[-5000:]\n",
    "song.export(\"output.mp3\", format=\"mp3\")"
   ]
  },
  {
   "cell_type": "markdown",
   "metadata": {},
   "source": [
    "# Request"
   ]
  },
  {
   "cell_type": "markdown",
   "metadata": {},
   "source": [
    "Request module will help you yo download the HTML structure from websites on which you can perfrom different types of actions like extracting data or modifying the HTML STRUCTURES ecc.\n",
    "The request also supports post data back to websites and also it has some other awesome functions. "
   ]
  },
  {
   "cell_type": "raw",
   "metadata": {},
   "source": [
    "Installation: pip install requests"
   ]
  },
  {
   "cell_type": "markdown",
   "metadata": {},
   "source": [
    "Example Code"
   ]
  },
  {
   "cell_type": "code",
   "execution_count": null,
   "metadata": {},
   "outputs": [],
   "source": [
    "import requests\n",
    "r = requests.get(\"https://medium.com/\")\n",
    "r.status_code # 200\n",
    "r.content"
   ]
  },
  {
   "cell_type": "markdown",
   "metadata": {},
   "source": [
    "# MoviePy"
   ]
  },
  {
   "cell_type": "markdown",
   "metadata": {},
   "source": [
    "It is an awesome module that helps you to create videos or edit videos. It has a lot of functions hat will help you to do video editing programmatically. "
   ]
  },
  {
   "cell_type": "raw",
   "metadata": {},
   "source": [
    "Installation: pip install moviepy"
   ]
  },
  {
   "cell_type": "markdown",
   "metadata": {},
   "source": [
    "Example Code"
   ]
  },
  {
   "cell_type": "code",
   "execution_count": null,
   "metadata": {},
   "outputs": [],
   "source": [
    "# Moviepy Example Code\n",
    "from moviepy.editor import *\n",
    "video = VideoFileClip(\"myvideo.mp4\")\n",
    "# Make the text\n",
    "txt_clip = ( TextClip(\"Python Programming\",fontsize=30,color='black').set_position('center').set_duration(20))\n",
    "output = CompositeVideoClip([video, txt_clip])\n",
    "output.write_videofile(\"myPython.mp4\",fps=25)"
   ]
  },
  {
   "cell_type": "code",
   "execution_count": null,
   "metadata": {},
   "outputs": [],
   "source": []
  }
 ],
 "metadata": {
  "kernelspec": {
   "display_name": "Python 3",
   "language": "python",
   "name": "python3"
  },
  "language_info": {
   "codemirror_mode": {
    "name": "ipython",
    "version": 3
   },
   "file_extension": ".py",
   "mimetype": "text/x-python",
   "name": "python",
   "nbconvert_exporter": "python",
   "pygments_lexer": "ipython3",
   "version": "3.8.5"
  }
 },
 "nbformat": 4,
 "nbformat_minor": 4
}
